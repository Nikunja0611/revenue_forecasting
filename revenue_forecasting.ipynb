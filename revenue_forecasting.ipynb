{
  "nbformat": 4,
  "nbformat_minor": 0,
  "metadata": {
    "colab": {
      "provenance": []
    },
    "kernelspec": {
      "name": "python3",
      "display_name": "Python 3"
    },
    "language_info": {
      "name": "python"
    }
  },
  "cells": [
    {
      "cell_type": "code",
      "execution_count": 1,
      "metadata": {
        "colab": {
          "base_uri": "https://localhost:8080/"
        },
        "id": "jQHBQ0xtpBaV",
        "outputId": "7cf71baf-9cb6-46e0-c8a6-51d575b91d79"
      },
      "outputs": [
        {
          "output_type": "stream",
          "name": "stdout",
          "text": [
            "         date product_category region agent_id marketing_spend  lead_count  \\\n",
            "0  29-03-2025         Cosmetic  North       A4           21000       170.0   \n",
            "1  29-03-2025         Logistic  South       A5           14000        60.0   \n",
            "2  29-03-2025          Fintech   West       A5           31000        70.0   \n",
            "3  30-03-2025         Cosmetic  North       A3           47000        70.0   \n",
            "4  30-03-2025             FMCG   West       A9           19000        80.0   \n",
            "\n",
            "  revenue  \n",
            "0   75000  \n",
            "1   43000  \n",
            "2   89000  \n",
            "3   86000  \n",
            "4   74000  \n",
            "<class 'pandas.core.frame.DataFrame'>\n",
            "RangeIndex: 94983 entries, 0 to 94982\n",
            "Data columns (total 7 columns):\n",
            " #   Column            Non-Null Count  Dtype  \n",
            "---  ------            --------------  -----  \n",
            " 0   date              94983 non-null  object \n",
            " 1   product_category  94983 non-null  object \n",
            " 2   region            94983 non-null  object \n",
            " 3   agent_id          92333 non-null  object \n",
            " 4   marketing_spend   94982 non-null  object \n",
            " 5   lead_count        94982 non-null  float64\n",
            " 6   revenue           94982 non-null  object \n",
            "dtypes: float64(1), object(6)\n",
            "memory usage: 5.1+ MB\n",
            "None\n",
            "date                   0\n",
            "product_category       0\n",
            "region                 0\n",
            "agent_id            2650\n",
            "marketing_spend        1\n",
            "lead_count             1\n",
            "revenue                1\n",
            "dtype: int64\n"
          ]
        }
      ],
      "source": [
        "import pandas as pd\n",
        "df = pd.read_csv('dummy_revenue_forecasting_data.csv')\n",
        "print(df.head())\n",
        "print(df.info())\n",
        "print(df.isnull().sum())\n"
      ]
    },
    {
      "cell_type": "code",
      "source": [
        "df['date'] = pd.to_datetime(df['date'], format='%d-%m-%Y', errors='coerce')\n",
        "df = df.dropna(subset=['date']).copy()\n",
        "df.loc[:, 'day'] = df['date'].dt.day\n",
        "df.loc[:, 'month'] = df['date'].dt.month\n",
        "df.loc[:, 'weekday'] = df['date'].dt.weekday\n",
        "\n",
        "df = df.dropna()\n",
        "\n",
        "df = pd.get_dummies(df, columns=['product_category', 'region', 'agent_id'], drop_first=True)\n",
        "\n",
        "X = df.drop(['date', 'revenue'], axis=1)\n",
        "y = df['revenue']\n",
        "\n",
        "print(\"Data ready!\")\n",
        "print(\"X shape:\", X.shape)\n",
        "print(\"y shape:\", y.shape)\n"
      ],
      "metadata": {
        "colab": {
          "base_uri": "https://localhost:8080/"
        },
        "id": "Oy2p_HT_pDiT",
        "outputId": "afceae0e-87c9-42ad-8acb-bf015a29f28c"
      },
      "execution_count": 2,
      "outputs": [
        {
          "output_type": "stream",
          "name": "stdout",
          "text": [
            "Data ready!\n",
            "X shape: (88309, 23)\n",
            "y shape: (88309,)\n"
          ]
        }
      ]
    },
    {
      "cell_type": "code",
      "source": [
        "from sklearn.model_selection import train_test_split\n",
        "from sklearn.ensemble import RandomForestRegressor\n",
        "from sklearn.metrics import mean_absolute_error, mean_squared_error\n",
        "import numpy as np\n",
        "import pandas as pd\n",
        "\n",
        "X = X.apply(pd.to_numeric, errors='coerce')\n",
        "y = pd.to_numeric(y, errors='coerce')\n",
        "\n",
        "valid_indices = ~(X.isna().any(axis=1) | y.isna())\n",
        "X = X[valid_indices]\n",
        "y = y[valid_indices]\n",
        "\n",
        "X_train, X_test, y_train, y_test = train_test_split(X, y, test_size=0.2, random_state=42)\n",
        "\n",
        "model = RandomForestRegressor(n_estimators=100, random_state=42)\n",
        "model.fit(X_train, y_train)\n",
        "\n",
        "y_pred = model.predict(X_test)\n",
        "mae = mean_absolute_error(y_test, y_pred)\n",
        "rmse = np.sqrt(mean_squared_error(y_test, y_pred))\n",
        "\n",
        "print(\"Model Training Complete!\")\n",
        "print(\"Mean Absolute Error (MAE):\", round(mae, 2))\n",
        "print(\"Root Mean Squared Error (RMSE):\", round(rmse, 2))"
      ],
      "metadata": {
        "colab": {
          "base_uri": "https://localhost:8080/"
        },
        "id": "lZqznMTfpFaK",
        "outputId": "001026ba-d8e7-4823-a311-1589d39e3797"
      },
      "execution_count": 3,
      "outputs": [
        {
          "output_type": "stream",
          "name": "stdout",
          "text": [
            "Model Training Complete!\n",
            "Mean Absolute Error (MAE): 15226.84\n",
            "Root Mean Squared Error (RMSE): 17751.13\n"
          ]
        }
      ]
    },
    {
      "cell_type": "code",
      "source": [
        "import joblib\n",
        "\n",
        "joblib.dump(model, 'model.pkl')\n",
        "joblib.dump(X.columns.tolist(), 'model_columns.pkl')\n"
      ],
      "metadata": {
        "colab": {
          "base_uri": "https://localhost:8080/"
        },
        "id": "KzLwgjwupHUR",
        "outputId": "db5ae5d5-3c94-4e2f-a6f4-7740807530ca"
      },
      "execution_count": 4,
      "outputs": [
        {
          "output_type": "execute_result",
          "data": {
            "text/plain": [
              "['model_columns.pkl']"
            ]
          },
          "metadata": {},
          "execution_count": 4
        }
      ]
    },
    {
      "cell_type": "code",
      "source": [
        "import zipfile\n",
        "\n",
        "with zipfile.ZipFile(\"model_files.zip\", \"w\") as z:\n",
        "    z.write(\"model.pkl\")\n",
        "    z.write(\"model_columns.pkl\")\n",
        "\n",
        "files.download(\"model_files.zip\")\n"
      ],
      "metadata": {
        "id": "DkUbFOAigXLx"
      },
      "execution_count": null,
      "outputs": []
    }
  ]
}